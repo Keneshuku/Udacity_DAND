{
 "cells": [
  {
   "cell_type": "markdown",
   "metadata": {
    "slideshow": {
     "slide_type": "slide"
    }
   },
   "source": [
    "# Part I - Ford GoBike System Data\n",
    "## by Kenechukwu Nwankwo"
   ]
  },
  {
   "cell_type": "markdown",
   "metadata": {
    "slideshow": {
     "slide_type": "slide"
    }
   },
   "source": [
    "\n",
    "\n",
    "\n",
    "## Investigation Overview\n",
    "\n",
    "\n",
    "> The overall goals of the presentation here is to present key insight discovered from the Ford Go biking system data set. \n",
    "\n",
    "\n",
    "## Dataset Overview\n",
    "\n",
    ">This data set includes information about individual rides made in a bike-sharing system covering the greater San Francisco Bay area. There are 183412 rows and 16 columns in the dataset. Before performing analysis on the dataset, I wrangled the data and deleted rows with null values, changed the data types for some columns and added new columns to the dataframe.\n"
   ]
  },
  {
   "cell_type": "code",
   "execution_count": null,
   "metadata": {
    "slideshow": {
     "slide_type": "skip"
    }
   },
   "outputs": [],
   "source": [
    "# import all packages and set plots to be embedded inline\n",
    "import numpy as np\n",
    "import pandas as pd\n",
    "import matplotlib.pyplot as plt\n",
    "import seaborn as sns\n",
    "\n",
    "%matplotlib inline\n",
    "\n",
    "# suppress warnings from final output\n",
    "import warnings\n",
    "warnings.simplefilter(\"ignore\")"
   ]
  },
  {
   "cell_type": "code",
   "execution_count": null,
   "metadata": {
    "slideshow": {
     "slide_type": "skip"
    }
   },
   "outputs": [],
   "source": [
    "# load in the dataset into a pandas dataframe\n",
    "# read in the data\n",
    "bike_df = pd.read_csv('201902-fordgobike-tripdata.csv')\n",
    "\n",
    "# make a copy of the data\n",
    "df = bike_df.copy()\n",
    "\n",
    "# display the first five rows of the dataset\n",
    "df.head()"
   ]
  },
  {
   "cell_type": "markdown",
   "metadata": {
    "slideshow": {
     "slide_type": "notes"
    }
   },
   "source": [
    "> Note that the above cells have been set as \"Skip\"-type slides. That means\n",
    "that when the notebook is rendered as http slides, those cells won't show up."
   ]
  },
  {
   "cell_type": "markdown",
   "metadata": {
    "slideshow": {
     "slide_type": "slide"
    }
   },
   "source": [
    "## Gender Distribution\n",
    "\n",
    "> Male users made up a higehr percentage than female and other genders\n"
   ]
  },
  {
   "cell_type": "code",
   "execution_count": null,
   "metadata": {
    "slideshow": {
     "slide_type": "subslide"
    }
   },
   "outputs": [],
   "source": [
    "# Function for univariate plots\n",
    "def univariate_plot(variable, plot_title, plot_type = sns.histplot):\n",
    "    \"\"\"Function for univariate plots\n",
    "    Args: \n",
    "        variable: a column to be plotted\n",
    "        plot_title: title of the plot\n",
    "        plot_type: the type of plot e.g hisplot, countplot, etc\n",
    "    \"\"\"\n",
    "    plt.figure(figsize=(10, 5))\n",
    "    plot_type(data=df, x=variable)\n",
    "    plt.xticks(rotation = 45)\n",
    "    plt.title(plot_title); \n",
    "    \n",
    "univariate_plot('member_gender', 'Gender Distribution')"
   ]
  },
  {
   "cell_type": "markdown",
   "metadata": {
    "collapsed": true,
    "slideshow": {
     "slide_type": "slide"
    }
   },
   "source": [
    "## Duration against User type\n",
    "\n",
    "> Customers ride for a longer time than subscribers"
   ]
  },
  {
   "cell_type": "code",
   "execution_count": null,
   "metadata": {
    "slideshow": {
     "slide_type": "subslide"
    }
   },
   "outputs": [],
   "source": [
    "# Function for bivariate plots\n",
    "def bivariate_plot(variable_x, plot_title, variable_y='duration_sec', plot_type = sns.barplot):\n",
    "    \"\"\"Function for univariate plots\n",
    "    Args: \n",
    "        variable_x: a column to be plotted on the x_axis\n",
    "        plot_title: title of the plot\n",
    "        variable_y: a column to be plotted on the y_axis\n",
    "        plot_type: the type of plot e.g catplot\n",
    "    \"\"\"\n",
    "    plt.figure(figsize=(10, 5))\n",
    "    plot_type(data=df, x=variable_x, y=variable_y) \n",
    "    plt.xticks(rotation = 45)\n",
    "    plt.title(plot_title); \n",
    "    \n",
    "bivariate_plot('user_type', 'Duration By User Type')"
   ]
  },
  {
   "cell_type": "markdown",
   "metadata": {
    "slideshow": {
     "slide_type": "slide"
    }
   },
   "source": [
    "## Duration by Bike sharing conditioned by Age\n",
    "\n",
    "> Most of the Long trips were not shared trips and were mostly done by younger drivers. "
   ]
  },
  {
   "cell_type": "code",
   "execution_count": null,
   "metadata": {
    "slideshow": {
     "slide_type": "subslide"
    }
   },
   "outputs": [],
   "source": [
    "# Creating a scatter plot to examine the distribution for Bike sharing against trip duration in hrs and age \n",
    "\n",
    "df['duration_hr']= (df['duration_sec']/3600)\n",
    "df['member_age']= (2022 - df['member_birth_year'])\n",
    "Dist_type = sns.FacetGrid(data = df, col = 'bike_share_for_all_trip', col_wrap = 3, height = 7,xlim = [20, 85], ylim = [-0.1, 5])\n",
    "Dist_type.map(plt.scatter,'member_age', 'duration_hr', alpha=0.5)\n",
    "Dist_type.set_xlabels('User Age')\n",
    "Dist_type.set_ylabels('Duration in hrs');\n",
    "plt.suptitle(\"Bike Sharing Distribution against Trip Duration and age\".title(),y=1.1,fontsize=14,weight=\"bold\");"
   ]
  },
  {
   "cell_type": "markdown",
   "metadata": {
    "slideshow": {
     "slide_type": "notes"
    }
   },
   "source": [
    ">**Generate Slideshow**: Once you're ready to generate your slideshow, use the `jupyter nbconvert` command to generate the HTML slide show. . From the terminal or command line, use the following expression."
   ]
  },
  {
   "cell_type": "code",
   "execution_count": null,
   "metadata": {
    "slideshow": {
     "slide_type": "skip"
    }
   },
   "outputs": [],
   "source": [
    "!jupyter nbconvert Part_II_slide_deck_kene.ipynb --to slides --post serve --no-input --no-prompt"
   ]
  },
  {
   "cell_type": "markdown",
   "metadata": {
    "slideshow": {
     "slide_type": "notes"
    }
   },
   "source": [
    "> This should open a tab in your web browser where you can scroll through your presentation. Sub-slides can be accessed by pressing 'down' when viewing its parent slide. Make sure you remove all of the quote-formatted guide notes like this one before you finish your presentation! At last, you can stop the Kernel. "
   ]
  },
  {
   "cell_type": "code",
   "execution_count": null,
   "metadata": {},
   "outputs": [],
   "source": []
  }
 ],
 "metadata": {
  "celltoolbar": "Slideshow",
  "kernelspec": {
   "display_name": "Python 3 (ipykernel)",
   "language": "python",
   "name": "python3"
  },
  "language_info": {
   "codemirror_mode": {
    "name": "ipython",
    "version": 3
   },
   "file_extension": ".py",
   "mimetype": "text/x-python",
   "name": "python",
   "nbconvert_exporter": "python",
   "pygments_lexer": "ipython3",
   "version": "3.9.13"
  }
 },
 "nbformat": 4,
 "nbformat_minor": 2
}
